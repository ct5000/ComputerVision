{
 "cells": [
  {
   "cell_type": "code",
   "execution_count": 119,
   "id": "9ad25e09",
   "metadata": {},
   "outputs": [],
   "source": [
    "import numpy as np\n",
    "import math\n",
    "import scipy.optimize as coolNonLinOptimizer\n",
    "import cv2\n",
    "import matplotlib.pyplot as plt"
   ]
  },
  {
   "cell_type": "code",
   "execution_count": 27,
   "id": "579d3247",
   "metadata": {},
   "outputs": [
    {
     "name": "stdout",
     "output_type": "stream",
     "text": [
      "[1 1 0 1]\n"
     ]
    }
   ],
   "source": [
    "# Setup\n",
    "\n",
    "R1 = np.identity(3)\n",
    "R2 = np.identity(3)\n",
    "t1 = np.array([0,0,1]).T\n",
    "t2 = np.array([0,0,20]).T\n",
    "K1 = np.array([[700,0,600],\n",
    "              [0,700,400],\n",
    "              [0,0,1]])\n",
    "K2 = np.array([[700,0,600],\n",
    "              [0,700,400],\n",
    "              [0,0,1]])\n",
    "\n",
    "Q = np.array([1,1,0]).T\n",
    "Q_h = np.hstack([Q.T,1])\n",
    "print(Qh)"
   ]
  },
  {
   "cell_type": "code",
   "execution_count": 30,
   "id": "17a6102e",
   "metadata": {},
   "outputs": [
    {
     "name": "stdout",
     "output_type": "stream",
     "text": [
      "[[1. 0. 0. 0.]\n",
      " [0. 1. 0. 0.]\n",
      " [0. 0. 1. 1.]]\n",
      "q1 [1300. 1100.]\n",
      "q2 [635. 435.]\n"
     ]
    }
   ],
   "source": [
    "# Exercise 5.1\n",
    "intri1 = np.vstack([R1,t1]).T\n",
    "print(intri1)\n",
    "P1 = K1@(np.vstack([R1,t1]).T)\n",
    "P2 = K2@(np.vstack([R2,t2]).T)\n",
    "q1_h = P1@Q_h\n",
    "q2_h = P2@Q_h\n",
    "q1 = q1_h[:-1]/q1_h[-1]\n",
    "q2 = q2_h[:-1]/q2_h[-1]\n",
    "print('q1',q1)\n",
    "print('q2',q2)\n",
    "\n",
    "\n"
   ]
  },
  {
   "cell_type": "code",
   "execution_count": 60,
   "id": "e1998f22",
   "metadata": {},
   "outputs": [],
   "source": [
    "#Triangulate function\n",
    "def triangulate(q, P):\n",
    "    \"\"\"\n",
    "    Return the traingulation.\n",
    "    \n",
    "    Parameters\n",
    "    ----------\n",
    "    q: 2 x n numpy array\n",
    "        INHomogenous pixel coordinates q1... qn\n",
    "        One for each camera seeing the point.\n",
    "        At least two.\n",
    "    P: list of 3 x 4 numpy arrays\n",
    "        Projection matrices P1... Pn\n",
    "        For each pixel coordinate\n",
    "    \n",
    "    Return\n",
    "    ------\n",
    "    Q: 3 x 1 numpy array\n",
    "        Triangulation of the point using the linear SVD algorithm\n",
    "    \"\"\"\n",
    "    _, n = q.shape # n = no. cameras has seen pixel.\n",
    "    # Prepare B matrix. Two rows for each camera n.\n",
    "    B = np.zeros((2 * n, 4))\n",
    "    for i in range(n):\n",
    "        B[2 * i: 2 * i + 2] = [\n",
    "            P[i][2, :] * q[0, i] - P[i][0, :],\n",
    "            P[i][2, :] * q[1, i] - P[i][1, :],\n",
    "        ]\n",
    "    # BQ = 0. Minimize using Svd.\n",
    "    _, _, vh = np.linalg.svd(B)\n",
    "    Q = vh[-1, :] # Q is ev. corresponding to the min. singular point.\n",
    "    return Q[:3].reshape(3, 1) / Q[3] # Reshape and scale.\n"
   ]
  },
  {
   "cell_type": "code",
   "execution_count": 64,
   "id": "02daca29",
   "metadata": {},
   "outputs": [
    {
     "name": "stdout",
     "output_type": "stream",
     "text": [
      "Q_tilt [[1.01527507e+00]\n",
      " [9.85270570e-01]\n",
      " [2.85786810e-04]]\n",
      "q1_re [1310.48950027 1089.4923513 ]\n",
      "q2_re [635.53411968 434.4839772 ]\n"
     ]
    }
   ],
   "source": [
    "#Exercise 5.2\n",
    "q1_tilt = q1 + np.array([1,-1])\n",
    "q2_tilt = q2 + np.array([1,-1])\n",
    "q1_tilt_h = np.hstack([q1_tilt.T,1])\n",
    "q2_tilt_h = np.hstack([q2_tilt.T,1])\n",
    "\n",
    "Q_tilt = triangulate(np.array([q1_tilt_h.T,q2_tilt_h.T]).T,[P1,P2])\n",
    "print('Q_tilt',Q_tilt)\n",
    "Q_tilt_h = np.hstack([Q_tilt[:,0].T,1])\n",
    "q1_re_h = P1@Q_tilt_h\n",
    "q2_re_h = P2@Q_tilt_h\n",
    "q1_re = q1_re_h[:-1]/q1_re_h[-1]\n",
    "q2_re = q2_re_h[:-1]/q2_re_h[-1]\n",
    "print('q1_re',q1_re)\n",
    "print('q2_re',q2_re)\n",
    "\n"
   ]
  },
  {
   "cell_type": "code",
   "execution_count": 67,
   "id": "01bf2731",
   "metadata": {},
   "outputs": [
    {
     "name": "stdout",
     "output_type": "stream",
     "text": [
      "[1.00153898e+00 9.98546326e-01 4.27535402e-05]\n"
     ]
    }
   ],
   "source": [
    "# Exercse 5.3\n",
    "def triangulate_nonlin(qs,Ps):\n",
    "    Q0 = triangulate(qs,Ps)\n",
    "    Q0 = Q0.reshape(3)\n",
    "    def compute_residuals(Q):\n",
    "        Q_h = np.hstack([Q,1])\n",
    "        n = len(qs)\n",
    "        residuals = np.zeros(shape=(2*n,))\n",
    "        for i in range(n):\n",
    "            q_est_h = Ps[i]@Q_h\n",
    "            q_est = q_est_h[:-1]/q_est_h[-1]\n",
    "            r = q_est - qs[:,i]\n",
    "            residuals[2*i] = r[0]\n",
    "            residuals[2*i+1] = r[1]\n",
    "        return residuals\n",
    "    Q = coolNonLinOptimizer.least_squares(compute_residuals, Q0)[\"x\"]\n",
    "            \n",
    "    return Q\n"
   ]
  },
  {
   "cell_type": "code",
   "execution_count": 68,
   "id": "f9cd3fde",
   "metadata": {},
   "outputs": [
    {
     "name": "stdout",
     "output_type": "stream",
     "text": [
      "[1.00153898e+00 9.98546326e-01 4.27535402e-05]\n"
     ]
    }
   ],
   "source": [
    "# Exercise 5.4\n",
    "Q_tilt_non = triangulate_nonlin(np.array([q1_tilt.T,q2_tilt.T]).T,[P1,P2])\n",
    "print(Q_tilt_non)\n",
    "    \n",
    "\n"
   ]
  },
  {
   "cell_type": "code",
   "execution_count": 87,
   "id": "707750a5",
   "metadata": {},
   "outputs": [],
   "source": [
    "# Exercise 5.6 - Stolen from Henrik\n",
    "\n",
    "def get_rgb(path):\n",
    "    bgr_img = cv2.imread(path)\n",
    "    b,g,r = cv2.split(bgr_img)       # get b,g,r\n",
    "    image = cv2.merge([r,g,b])\n",
    "    return image\n",
    "\n",
    "\n",
    "\n",
    "images = []\n",
    "for i in range(20):\n",
    "    image = get_rgb(\"/home/christian/notebook/checkerboards/c%02d.jpg\" %i)\n",
    "    image = cv2.resize(image, (600, 400))\n",
    "    images.append(image)\n",
    "\n",
    "imgpoints = []\n",
    "for img in images:\n",
    "    gray = cv2.cvtColor(img, cv2.COLOR_BGR2GRAY)\n",
    "    ret, corners = cv2.findChessboardCorners(gray, (7, 10))\n",
    "    if ret == True:\n",
    "        imgpoints.append(corners)\n",
    "        # Draw and display the corners\n",
    "        #painted = cv2.drawChessboardCorners(img.copy(), (7, 10), corners,ret)\n",
    "        #cv2.imshow('img',painted)\n",
    "        #cv2.waitKey(400)\n",
    "\n",
    "#cv2.destroyAllWindows()\n",
    "\n",
    "\n"
   ]
  },
  {
   "cell_type": "code",
   "execution_count": 84,
   "id": "045af85a",
   "metadata": {},
   "outputs": [],
   "source": [
    "# Exercise 5.7\n",
    "\n",
    "def checkerboard_points(n,m):\n",
    "    Q = np.zeros((3,n*m))\n",
    "    for i in range(n):\n",
    "        for j in range(m):\n",
    "            Q[:,i*m+j] = np.array([i-((n-1)/2),j-((m-1)/2),0])\n",
    "    return Q\n"
   ]
  },
  {
   "cell_type": "code",
   "execution_count": 122,
   "id": "cd668ae0",
   "metadata": {},
   "outputs": [],
   "source": [
    "def CrossOp(p):\n",
    "    return np.array([[0,-p[2],p[1]],\n",
    "                    [p[2],0,-p[0]],\n",
    "                    [-p[1],p[0],0]])\n",
    "\n",
    "def normalize2d(Q):\n",
    "    mean = np.mean(Q,axis=1)\n",
    "    std = np.std(Q,axis=1)\n",
    "    T = np.array([[1/std[0],0,-mean[0]/std[0]],\n",
    "                  [0,1/std[1],-mean[1]/std[1]],\n",
    "                 [0,0,1]])\n",
    "    return [T@Q, T]\n",
    "\n",
    "def hest(q1,q2):\n",
    "    \"\"\"\n",
    "    Estimates H given points Q1, Q2 on the two image planes. \n",
    "    Need at least 4 pairs of points to estimate the matrix with 8 degrees of freedom.\n",
    "    \"\"\"\n",
    "    q1,T1 = normalize2d(q1)\n",
    "    q2,T2 = normalize2d(q2)\n",
    "    assert len(q1[0])>1, \"We need at least two points (aka two columns)\"\n",
    "    assert len(q1[0])==len(q2[0]), \"Number of column of q1 and q2 must be equal!\"\n",
    "    B = get_b_new(q1,q2) #np.vstack((B0,B1))\n",
    "    _,_,VT = np.linalg.svd(B.T@B) #U,S,VT = np.linalg.svd(np.hstack((B.T,B)))\n",
    "    H = np.reshape(VT[-1],(3,3)) # VT is sorted in descending order of singular value\n",
    "    return (np.linalg.inv(T1)@H.T@T2.round(2))\n",
    "\n",
    "def get_b_new(q1,q2):\n",
    "    B = np.kron(q2[:,0], CrossOp(q1[:,0]))\n",
    "    for i in range(1,len(q1.T)):\n",
    "        B_temp = np.kron(q2[:,i], CrossOp(q1[:,i]))\n",
    "        B = np.vstack((B,B_temp))\n",
    "    return B\n",
    "\n",
    "def get_b(q1,q2):\n",
    "    B = np.kron(q2[:,0], CrossOp(q1[:,0]))\n",
    "    for i in range(1,len(q1.T)):\n",
    "        B_temp = np.kron(q2[:,i], CrossOp(q1[:,i]))\n",
    "        B = np.vstack((B,B_temp))\n",
    "    return B\n",
    "\n",
    "def estimateHomographies(Q_omega,qs):\n",
    "    Q_omega_mz = Q_omega[:-1]\n",
    "    Qh_omega = np.vstack([Q_omega_mz, np.ones((1,len(Q_omega_mz.T)))])\n",
    "    Hs = []\n",
    "    for q in qs:\n",
    "        qh = np.vstack([q,np.ones((1,len(q.T)))])\n",
    "        Hs.append(hest(qh,Qh_omega))\n",
    "    return Hs\n",
    "\n",
    "\n",
    "def estimate_b(Hs):\n",
    "    V = make_Vrow(Hs[0])\n",
    "    for i in range(1,len(Hs)):\n",
    "        V = np.vstack([V,make_Vrow(Hs[i])])\n",
    "    U,S,VT = np.linalg.svd(V)\n",
    "    b = VT[-1]\n",
    "    return b\n",
    "    \n",
    "    \n",
    "    \n",
    "def make_Vrow(H):\n",
    "    v12 = np.array([H[0,0]*H[0,1],H[0,0]*H[1,1]+H[1,0]*H[0,1],H[1,0]*H[1,1],\n",
    "                   H[2,0]*H[0,1]+H[0,0]*H[2,1],H[2,0]*H[1,1]+H[1,0]*H[2,1],H[2,0]*H[2,1]])\n",
    "    v11 = np.array([H[0,0]*H[0,0],H[0,0]*H[1,0]+H[1,0]*H[0,0],H[1,0]*H[1,0],\n",
    "                   H[2,0]*H[0,0]+H[0,0]*H[2,0],H[2,0]*H[1,0]+H[1,0]*H[2,0],H[2,0]*H[2,0]])\n",
    "    v22 = np.array([H[0,1]*H[0,1],H[0,1]*H[1,1]+H[1,1]*H[0,1],H[1,1]*H[1,1],\n",
    "                   H[2,1]*H[0,1]+H[0,1]*H[2,1],H[2,1]*H[1,1]+H[1,1]*H[2,1],H[2,1]*H[2,1]])\n",
    "    V = np.vstack([v12,v11-v22])\n",
    "    return V\n",
    "    \n",
    "\n",
    "\n",
    "def estimateIntrinsics(Hs):\n",
    "    b = estimate_b(Hs)\n",
    "    v0 = (b[1]*b[3]-b[0]*b[4])/(b[0]*b[2]-b[1]**2)\n",
    "    lamb = b[5]-((b[3]**2+v0*(b[1]*b[3]-b[0]*b[4]))/b[0])\n",
    "    alpha = math.sqrt(lamb/b[0])\n",
    "    beta = math.sqrt((lamb*b[0])/(b[0]*b[2]-b[1]**2))\n",
    "    gamma = -b[1]*alpha**2*beta/lamb\n",
    "    u0 = gamma*v0/beta - b[3]*alpha**2/lamb\n",
    "    K = np.array([[alpha,gamma,u0],\n",
    "                  [0,beta,v0],\n",
    "                  [0,0,1]])\n",
    "    return K\n",
    "\n",
    "def estimateExtrinsics(K,Hs):\n",
    "    ts = []\n",
    "    Rs = []\n",
    "    for H in Hs:\n",
    "        lamb = np.linalg.norm(np.linalg.inv(K)*H[:,0],2)\n",
    "        r1 = (1/lamb)*np.linalg.inv(K)@H[:,0]\n",
    "        r2 = (1/lamb)*np.linalg.inv(K)@H[:,1]\n",
    "        r3 = np.cross(r1,r2)\n",
    "        ts.append((1/lamb)*np.linalg.inv(K)@H[:,2])\n",
    "        Rs.append(np.vstack([r1,r2,r3]).T)\n",
    "\n",
    "    ts = np.mean(ts,axis=0)    \n",
    "\n",
    "    Rs = np.mean(Rs,axis=0)\n",
    "    return Rs, ts\n",
    "\n",
    "\n",
    "def calibratecamera(qs,Q):\n",
    "    Hs = estimateHomographies(Q,qs)\n",
    "    K = estimateIntrinsics(Hs)\n",
    "    Rs, ts = estimateExtrinsics(K,Hs)\n",
    "    return K, Rs, ts\n",
    "\n",
    "\n"
   ]
  },
  {
   "cell_type": "code",
   "execution_count": 101,
   "id": "069182fa",
   "metadata": {},
   "outputs": [],
   "source": [
    "qs = []\n",
    "for i in range(len(imgpoints)):    \n",
    "    r, _, c = imgpoints[i].shape\n",
    "    q_ = np.zeros(shape=(c, r))\n",
    "    q_[0, :] = imgpoints[i][:,0,0]\n",
    "    q_[1, :] = imgpoints[i][:,0,1]\n",
    "    qs.append(q_)\n"
   ]
  },
  {
   "cell_type": "code",
   "execution_count": 123,
   "id": "ab73beca",
   "metadata": {},
   "outputs": [
    {
     "name": "stdout",
     "output_type": "stream",
     "text": [
      "K [[693.37827726 142.6841463  478.82978242]\n",
      " [  0.         564.80927065 194.24722869]\n",
      " [  0.           0.           1.        ]]\n",
      "Rs [[-0.78940069 -0.20670512 -0.22709828]\n",
      " [-0.05527703  0.64571298 -0.84246572]\n",
      " [ 0.30976227 -0.6177531  -1.02791035]]\n",
      "ts [-4.81933723 -0.49371287 17.37224631]\n"
     ]
    }
   ],
   "source": [
    "checker_points = checkerboard_points(10,7)\n",
    "\n",
    "K_self,Rs_self,ts_self = calibratecamera(qs,checker_points)\n",
    "\n",
    "print('K',K_self)\n",
    "print('Rs',Rs_self)\n",
    "print('ts',ts_self)"
   ]
  },
  {
   "cell_type": "code",
   "execution_count": 121,
   "id": "ed85c005",
   "metadata": {},
   "outputs": [
    {
     "data": {
      "text/plain": [
       "<matplotlib.collections.PathCollection at 0x7f37eeadbf70>"
      ]
     },
     "execution_count": 121,
     "metadata": {},
     "output_type": "execute_result"
    },
    {
     "data": {
      "image/png": "[encoded data removed]",
      "text/plain": [
       "<Figure size 432x288 with 1 Axes>"
      ]
     },
     "metadata": {
      "needs_background": "light"
     },
     "output_type": "display_data"
    }
   ],
   "source": [
    "plt.scatter(checker_points[0,:], checker_points[1,:])\n"
   ]
  },
  {
   "cell_type": "code",
   "execution_count": null,
   "id": "5dba1646",
   "metadata": {},
   "outputs": [],
   "source": []
  },
  {
   "cell_type": "code",
   "execution_count": null,
   "id": "8a10758a",
   "metadata": {},
   "outputs": [],
   "source": []
  },
  {
   "cell_type": "code",
   "execution_count": null,
   "id": "f30ff17a",
   "metadata": {},
   "outputs": [],
   "source": []
  },
  {
   "cell_type": "code",
   "execution_count": null,
   "id": "c72d0cca",
   "metadata": {},
   "outputs": [],
   "source": []
  },
  {
   "cell_type": "code",
   "execution_count": null,
   "id": "7074e560",
   "metadata": {},
   "outputs": [],
   "source": []
  },
  {
   "cell_type": "code",
   "execution_count": null,
   "id": "735c9627",
   "metadata": {},
   "outputs": [],
   "source": []
  },
  {
   "cell_type": "code",
   "execution_count": null,
   "id": "48682621",
   "metadata": {},
   "outputs": [],
   "source": []
  },
  {
   "cell_type": "code",
   "execution_count": null,
   "id": "b3becb9e",
   "metadata": {},
   "outputs": [],
   "source": []
  },
  {
   "cell_type": "code",
   "execution_count": null,
   "id": "3f1d9fec",
   "metadata": {},
   "outputs": [],
   "source": []
  }
 ],
 "metadata": {
  "kernelspec": {
   "display_name": "Python 3 (ipykernel)",
   "language": "python",
   "name": "python3"
  },
  "language_info": {
   "codemirror_mode": {
    "name": "ipython",
    "version": 3
   },
   "file_extension": ".py",
   "mimetype": "text/x-python",
   "name": "python",
   "nbconvert_exporter": "python",
   "pygments_lexer": "ipython3",
   "version": "3.8.10"
  }
 },
 "nbformat": 4,
 "nbformat_minor": 5
}
