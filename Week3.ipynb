{
 "cells": [
  {
   "cell_type": "code",
   "execution_count": 3,
   "id": "34a885db",
   "metadata": {},
   "outputs": [],
   "source": [
    "import numpy as np\n",
    "from scipy.spatial.transform import Rotation\n",
    "\n",
    "\n"
   ]
  },
  {
   "cell_type": "code",
   "execution_count": 70,
   "id": "11084869",
   "metadata": {},
   "outputs": [
    {
     "name": "stdout",
     "output_type": "stream",
     "text": [
      "[[1. 0. 0. 0.]\n",
      " [0. 1. 0. 0.]\n",
      " [0. 0. 1. 0.]]\n",
      "[[ 0.61141766 -0.76384514  0.20666167  0.2       ]\n",
      " [ 0.6295392   0.31131209 -0.71187442  2.        ]\n",
      " [ 0.47942554  0.56535421  0.67121217  1.        ]]\n"
     ]
    }
   ],
   "source": [
    "# Exercise setup\n",
    "K=np.array([[1000,0,300],\n",
    "           [0,1000,200],\n",
    "          [0,0,1]])\n",
    "R1 = np.identity(3)\n",
    "R2 = Rotation.from_euler('xyz',[0.7,-0.5,0.8]).as_matrix()\n",
    "t1 = np.array([0,0,0])\n",
    "t2 = np.array([0.2,2,1])\n",
    "entri1 = np.vstack([R1.T, t1]).T\n",
    "entri2 = np.vstack([R2.T, t2]).T\n",
    "print(entri1)\n",
    "\n",
    "print(entri2)"
   ]
  },
  {
   "cell_type": "code",
   "execution_count": 54,
   "id": "4f48158f",
   "metadata": {},
   "outputs": [
    {
     "name": "stdout",
     "output_type": "stream",
     "text": [
      "[550. 325.]\n",
      "[582.47256835 185.98985776]\n"
     ]
    }
   ],
   "source": [
    "# Exercise 3.1\n",
    "Q = np.array([1,0.5,4,1])\n",
    "q1 = K@entri1@Q\n",
    "q2 = K@entri2@Q\n",
    "p1 = q1[:-1]/q1[-1]\n",
    "p2 = q2[:-1]/q2[-1]\n",
    "print(p1)\n",
    "print(p2)"
   ]
  },
  {
   "cell_type": "code",
   "execution_count": 35,
   "id": "4710e50a",
   "metadata": {},
   "outputs": [
    {
     "name": "stdout",
     "output_type": "stream",
     "text": [
      "[ 19612058 -16640908    169206]\n",
      "[ 19612058 -16640908    169206]\n"
     ]
    }
   ],
   "source": [
    "# Exercise 3.2\n",
    "def CrossOp(p):\n",
    "    return np.array([[0,-p[2],p[1]],\n",
    "                    [p[2],0,-p[0]],\n",
    "                    [-p[1],p[0],0]])\n",
    "\n",
    "p1 = np.array([16,134,11324])\n",
    "p2 = np.array([1521,2163,36431])\n",
    "print(CrossOp(p2)@p1)\n",
    "print(np.cross(p2,p1))\n",
    "\n",
    "\n"
   ]
  },
  {
   "cell_type": "code",
   "execution_count": 71,
   "id": "55ddf7e4",
   "metadata": {},
   "outputs": [
    {
     "name": "stdout",
     "output_type": "stream",
     "text": [
      "Point1 [1.  0.5 4. ] [2200. 1300.    4.]\n",
      "Point2 [ 1.25614176 -0.06230242  4.44695131] [2590.22714938  827.08784113    4.44695131]\n",
      "E [[ 0.32931188  0.81939633  2.05429875]\n",
      " [ 0.51553255 -0.87691598  0.07241923]\n",
      " [-1.09692748  1.5899527  -0.55569822]]\n",
      "F [[ 3.29311881e-07  8.19396327e-07  1.79162592e-03]\n",
      " [ 5.15532551e-07 -8.76915984e-07  9.31426656e-05]\n",
      " [-1.29882755e-03  1.51951700e-03 -1.10072682e+00]]\n",
      "1.7763568394002505e-15\n",
      "3.552713678800501e-15\n"
     ]
    }
   ],
   "source": [
    "# Exercise 3.3\n",
    "# Transform from camera 1 to camera 2, so try to make camera 1 the identity\n",
    "\n",
    "E = CrossOp(t2)@R2\n",
    "\n",
    "F = np.linalg.inv(K.T)@E@np.linalg.inv(K)\n",
    "p1 = entri1@Q\n",
    "p2 = entri2@Q\n",
    "q1 = K@p1\n",
    "q2 = K@p2\n",
    "\n",
    "print(\"Point1\",p1,q1)\n",
    "print(\"Point2\",p2,q2)\n",
    "\n",
    "print(\"E\",E)\n",
    "print(\"F\",F)\n",
    "print(p2.T@E@p1) #Close to 0\n",
    "print(q2.T@F@q1) #Close to 0\n"
   ]
  },
  {
   "cell_type": "code",
   "execution_count": 118,
   "id": "00003353",
   "metadata": {},
   "outputs": [
    {
     "name": "stdout",
     "output_type": "stream",
     "text": [
      "[ 8.95627993e-03  3.66754562e-04 -5.28500000e+00]\n"
     ]
    }
   ],
   "source": [
    "# Exercise 3.4\n",
    "\n",
    "l = F@q1\n",
    "print(l/(l[-1]/-5.285))\n"
   ]
  },
  {
   "cell_type": "code",
   "execution_count": 119,
   "id": "2a27fb9a",
   "metadata": {},
   "outputs": [
    {
     "name": "stdout",
     "output_type": "stream",
     "text": [
      "7.105427357601002e-15\n"
     ]
    }
   ],
   "source": [
    "# Exercise 3.5\n",
    "print(q2@l)\n",
    "\n"
   ]
  },
  {
   "cell_type": "code",
   "execution_count": null,
   "id": "57ecb2de",
   "metadata": {},
   "outputs": [],
   "source": [
    "# Exercise 3.6\n"
   ]
  },
  {
   "cell_type": "code",
   "execution_count": null,
   "id": "380ded48",
   "metadata": {},
   "outputs": [],
   "source": [
    "# Exercise 3.7"
   ]
  },
  {
   "cell_type": "code",
   "execution_count": null,
   "id": "0fe91b92",
   "metadata": {},
   "outputs": [],
   "source": [
    "# Exercise 3.8"
   ]
  },
  {
   "cell_type": "code",
   "execution_count": null,
   "id": "e6b2453a",
   "metadata": {},
   "outputs": [],
   "source": [
    "# Exercise 3.9"
   ]
  },
  {
   "cell_type": "code",
   "execution_count": null,
   "id": "20b35d4a",
   "metadata": {},
   "outputs": [],
   "source": [
    "# Exercise 3.10\n",
    "def DrawLine(l, shape):\n",
    "    #Checks where the line intersects the four sides of the image\n",
    "    # and finds the two intersections that are within the frame\n",
    "    def in_frame(l_im):\n",
    "        q = np.cross(l.flatten(), l_im)\n",
    "        q = q[:2]/q[2]\n",
    "        if all(q>=0) and all(q+1<=shape[1::-1]):\n",
    "            return q\n",
    "    lines = [[1, 0, 0], [0, 1, 0], [1, 0, 1-shape[1]], [0, 1, 1-shape[0]]]\n",
    "    P = [in_frame(l_im) for l_im in lines if in_frame(l_im) is not None]\n",
    "    plt.plot(*np.array(P).T)\n"
   ]
  },
  {
   "cell_type": "code",
   "execution_count": null,
   "id": "0164cb9c",
   "metadata": {},
   "outputs": [],
   "source": [
    "# Exercise 3.11\n",
    "def triangulate(points,projection):\n",
    "    \n",
    "\n"
   ]
  }
 ],
 "metadata": {
  "kernelspec": {
   "display_name": "Python 3 (ipykernel)",
   "language": "python",
   "name": "python3"
  },
  "language_info": {
   "codemirror_mode": {
    "name": "ipython",
    "version": 3
   },
   "file_extension": ".py",
   "mimetype": "text/x-python",
   "name": "python",
   "nbconvert_exporter": "python",
   "pygments_lexer": "ipython3",
   "version": "3.8.10"
  }
 },
 "nbformat": 4,
 "nbformat_minor": 5
}
