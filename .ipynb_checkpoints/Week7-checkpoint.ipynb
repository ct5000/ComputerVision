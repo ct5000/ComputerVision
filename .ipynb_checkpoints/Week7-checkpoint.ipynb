{
 "cells": [
  {
   "cell_type": "code",
   "execution_count": 8,
   "id": "8bfd6916",
   "metadata": {},
   "outputs": [],
   "source": [
    "import numpy as np\n",
    "import matplotlib.pyplot as plt"
   ]
  },
  {
   "cell_type": "code",
   "execution_count": 3,
   "id": "5fb7d21b",
   "metadata": {},
   "outputs": [],
   "source": [
    "# Setup\n",
    "def test_points(n_in,n_out):\n",
    "    a = (np.random.rand(n_in)-.5)*10\n",
    "    b = np.vstack((a,a*.5+np.random.randn(n_in)*.25))\n",
    "    points = np.hstack((b,2*np.random.randn(2,n_out)))\n",
    "    return np.random.permutation(points.T).T\n"
   ]
  },
  {
   "cell_type": "code",
   "execution_count": 340,
   "id": "4c3d0801",
   "metadata": {},
   "outputs": [
    {
     "data": {
      "image/png": "[encoded data removed]",
      "text/plain": [
       "<Figure size 432x288 with 1 Axes>"
      ]
     },
     "metadata": {
      "needs_background": "light"
     },
     "output_type": "display_data"
    }
   ],
   "source": [
    "t_points = test_points(300,20)\n",
    "plt.scatter(t_points[0],t_points[1])\n",
    "plt.show()"
   ]
  },
  {
   "cell_type": "code",
   "execution_count": 41,
   "id": "bd0f4b5f",
   "metadata": {},
   "outputs": [
    {
     "name": "stdout",
     "output_type": "stream",
     "text": [
      "(2, 35)\n"
     ]
    }
   ],
   "source": [
    "print(t_points.shape)\n"
   ]
  },
  {
   "cell_type": "code",
   "execution_count": 31,
   "id": "d7a62daf",
   "metadata": {},
   "outputs": [
    {
     "name": "stdout",
     "output_type": "stream",
     "text": [
      "[-0.70710678  0.70710678 -5.65685425]\n"
     ]
    },
    {
     "data": {
      "image/png": "[encoded data removed]",
      "text/plain": [
       "<Figure size 432x288 with 1 Axes>"
      ]
     },
     "metadata": {
      "needs_background": "light"
     },
     "output_type": "display_data"
    }
   ],
   "source": [
    "# Exercise 7.1 - normalised homogeneous line\n",
    "def homogeneous_line(p1,p2):\n",
    "    a_b = (p2[1]-p1[1])/(p2[0]-p1[0])\n",
    "    c_b = p1[1]-a_b*p1[0]\n",
    "    b = np.sqrt(1/(a_b**2+1))\n",
    "    a = -b*a_b\n",
    "    c = -c_b*b\n",
    "    return np.array([a,b,c])\n",
    "\n",
    "\n",
    "hom_line = homogeneous_line([2,10],[3,11])\n",
    "\n",
    "print(hom_line)\n",
    "x = np.arange(-5,5)\n",
    "y = -(hom_line[0]*x+hom_line[2])/hom_line[1]\n",
    "plt.scatter(x,y)\n",
    "plt.show()\n"
   ]
  },
  {
   "cell_type": "code",
   "execution_count": 171,
   "id": "d7cceb42",
   "metadata": {},
   "outputs": [
    {
     "name": "stdout",
     "output_type": "stream",
     "text": [
      "False\n"
     ]
    }
   ],
   "source": [
    "# Exercise 7.2 - Line should be homogenous\n",
    "def inline_point(line,point,tau):\n",
    "    point_h = np.array([point[0],point[1],1])\n",
    "    distance = np.abs(np.dot(line,point_h))\n",
    "    return distance < tau\n",
    "\n",
    "print(inline_point(hom_line,np.array([0.1,12]),1))\n"
   ]
  },
  {
   "cell_type": "code",
   "execution_count": 162,
   "id": "1613e849",
   "metadata": {},
   "outputs": [
    {
     "name": "stdout",
     "output_type": "stream",
     "text": [
      "5\n"
     ]
    }
   ],
   "source": [
    "# Exercise 7.3 - homogeneous line, nonhomogeneous points\n",
    "def consensus(line,points,tau):\n",
    "    consensus = 0\n",
    "    for point in points.T:\n",
    "        if inline_point(line,point,tau):\n",
    "            consensus += 1\n",
    "    return consensus\n",
    "\n",
    "\n",
    "print(consensus(hom_line,np.array([[0.1,8],[-0.1,8],[-2,6.5],[-4,3.5],[0,4],[0,12]]).T,1))\n"
   ]
  },
  {
   "cell_type": "code",
   "execution_count": 42,
   "id": "719c7e27",
   "metadata": {},
   "outputs": [
    {
     "name": "stdout",
     "output_type": "stream",
     "text": [
      "[0.8908956  0.49628474] [0.32779977 0.29920439]\n"
     ]
    }
   ],
   "source": [
    "# Exercise 7.4\n",
    "\n",
    "def draw_2_points(points):\n",
    "    n = points.shape[1]\n",
    "    i_1 = np.random.randint(0,n)\n",
    "    i_2 = i_1\n",
    "    while i_2 == i_1:\n",
    "        i_2 = np.random.randint(0,n)\n",
    "    p1 = points[:,i_1]\n",
    "    p2 = points[:,i_2]\n",
    "    return p1,p2\n",
    "\n",
    "p1, p2 = draw_2_points(t_points)\n",
    "print(p1,p2)\n"
   ]
  },
  {
   "cell_type": "code",
   "execution_count": 209,
   "id": "b02cf8fa",
   "metadata": {},
   "outputs": [],
   "source": [
    "# Exercise 7.5\n",
    "def RANSAC_steady(points, N, tau):\n",
    "    max_inliers = 0\n",
    "    max_inliers_line = np.array([0,0,0])\n",
    "    for i in range(N):\n",
    "        p1,p2 = draw_2_points(points)\n",
    "        line = homogeneous_line(p1,p2)\n",
    "        inliers = consensus(line,points,tau)\n",
    "        if inliers > max_inliers:\n",
    "            max_inliers = inliers\n",
    "            max_inliers_line = line\n",
    "    return max_inliers_line, max_inliers\n",
    "\n",
    "\n"
   ]
  },
  {
   "cell_type": "code",
   "execution_count": 239,
   "id": "449a6d57",
   "metadata": {},
   "outputs": [
    {
     "ename": "ValueError",
     "evalue": "operands could not be broadcast together with shapes (3,) (100,) ",
     "output_type": "error",
     "traceback": [
      "\u001b[0;31m---------------------------------------------------------------------------\u001b[0m",
      "\u001b[0;31mValueError\u001b[0m                                Traceback (most recent call last)",
      "Input \u001b[0;32mIn [239]\u001b[0m, in \u001b[0;36m<module>\u001b[0;34m\u001b[0m\n\u001b[1;32m      1\u001b[0m RANSAC_line \u001b[38;5;241m=\u001b[39m RANSAC_steady(t_points, \u001b[38;5;241m20\u001b[39m,\u001b[38;5;241m0.2\u001b[39m)\n\u001b[1;32m      3\u001b[0m x \u001b[38;5;241m=\u001b[39m np\u001b[38;5;241m.\u001b[39marange(\u001b[38;5;241m-\u001b[39m\u001b[38;5;241m5\u001b[39m,\u001b[38;5;241m5\u001b[39m,\u001b[38;5;241m0.1\u001b[39m)\n\u001b[0;32m----> 4\u001b[0m y \u001b[38;5;241m=\u001b[39m \u001b[38;5;241m-\u001b[39m(\u001b[43mRANSAC_line\u001b[49m\u001b[43m[\u001b[49m\u001b[38;5;241;43m0\u001b[39;49m\u001b[43m]\u001b[49m\u001b[38;5;241;43m*\u001b[39;49m\u001b[43mx\u001b[49m\u001b[38;5;241m+\u001b[39mRANSAC_line[\u001b[38;5;241m2\u001b[39m])\u001b[38;5;241m/\u001b[39mRANSAC_line[\u001b[38;5;241m1\u001b[39m]\n\u001b[1;32m      5\u001b[0m fig \u001b[38;5;241m=\u001b[39m plt\u001b[38;5;241m.\u001b[39mfigure()\n\u001b[1;32m      6\u001b[0m ax1 \u001b[38;5;241m=\u001b[39m fig\u001b[38;5;241m.\u001b[39madd_subplot(\u001b[38;5;241m111\u001b[39m)\n",
      "\u001b[0;31mValueError\u001b[0m: operands could not be broadcast together with shapes (3,) (100,) "
     ]
    }
   ],
   "source": [
    "RANSAC_line = RANSAC_steady(t_points, 20,0.2)\n",
    "\n",
    "x = np.arange(-5,5,0.1)\n",
    "y = -(RANSAC_line[0]*x+RANSAC_line[2])/RANSAC_line[1]\n",
    "fig = plt.figure()\n",
    "ax1 = fig.add_subplot(111)\n",
    "ax1.scatter(x,y)\n",
    "ax1.scatter(t_points[0],t_points[1])\n",
    "plt.show()"
   ]
  },
  {
   "cell_type": "code",
   "execution_count": 271,
   "id": "2775155e",
   "metadata": {},
   "outputs": [],
   "source": [
    "# Exercise 7.7\n",
    "def pca_line(x):\n",
    "    d = np.cov(x)\n",
    "    d /= np.linalg.norm(d)\n",
    "    l = [d[1],-d[0]]\n",
    "    l.append(-(l@x.mean(1)))\n",
    "    return l\n",
    "\n",
    "def RANSAC_fit(points,N,tau):\n",
    "    initial_guess, inliers = RANSAC_steady(points,N,tau)\n",
    "    points_inliers = np.zeros((2,inliers))\n",
    "    count = 0\n",
    "    for point in points.T:\n",
    "        if inline_point(initial_guess,point,tau):\n",
    "            points_inliers[:,count] = point\n",
    "            count += 1\n",
    "    pca_line1 = pca_line(points_inliers)\n",
    "    final_line = np.array([pca_line1[0][0],pca_line1[1][0],pca_line1[2][0]])\n",
    "    return final_line\n",
    "\n",
    "\n"
   ]
  },
  {
   "cell_type": "code",
   "execution_count": 319,
   "id": "5165987f",
   "metadata": {},
   "outputs": [
    {
     "data": {
      "image/png": "[encoded data removed]",
      "text/plain": [
       "<Figure size 432x288 with 1 Axes>"
      ]
     },
     "metadata": {
      "needs_background": "light"
     },
     "output_type": "display_data"
    }
   ],
   "source": [
    "RANSAC_line = RANSAC_fit(t_points, 20,0.25)\n",
    "\n",
    "x = np.arange(-5,5,0.1)\n",
    "y = -(RANSAC_line[0]*x+RANSAC_line[2])/RANSAC_line[1]\n",
    "fig = plt.figure()\n",
    "ax1 = fig.add_subplot(111)\n",
    "ax1.scatter(x,y)\n",
    "ax1.scatter(t_points[0],t_points[1])\n",
    "plt.show()"
   ]
  },
  {
   "cell_type": "code",
   "execution_count": 355,
   "id": "f86851c0",
   "metadata": {},
   "outputs": [],
   "source": [
    "def RANSAC_initial(points, tau,p):\n",
    "    max_inliers = 0\n",
    "    max_inliers_line = np.array([0,0,0])\n",
    "    n_points = points.shape[1]\n",
    "    epsilon = 0.99\n",
    "    N = np.ceil(np.log(1-p)/(np.log((1-((1-epsilon)**n_points)))))\n",
    "    print(N)\n",
    "    count = 0\n",
    "    while count < N:\n",
    "        p1,p2 = draw_2_points(points)\n",
    "        line = homogeneous_line(p1,p2)\n",
    "        inliers = consensus(line,points,tau)\n",
    "        if inliers > max_inliers:\n",
    "            max_inliers = inliers\n",
    "            max_inliers_line = line\n",
    "            epsilon = 1 - (max_inliers/n_points)\n",
    "            N = np.ceil(np.log(1-p)/(np.log((1-(1-epsilon)**n_points))))\n",
    "        count += 1\n",
    "    return max_inliers_line, max_inliers\n",
    "\n",
    "\n",
    "def RANSAC(points,tau,p):\n",
    "    initial_guess, inliers = RANSAC_initial(points,tau,p)\n",
    "    points_inliers = np.zeros((2,inliers))\n",
    "    count = 0\n",
    "    for point in points.T:\n",
    "        if inline_point(initial_guess,point,tau):\n",
    "            points_inliers[:,count] = point\n",
    "            count += 1\n",
    "    pca_line1 = pca_line(points_inliers)\n",
    "    final_line = np.array([pca_line1[0][0],pca_line1[1][0],pca_line1[2][0]])\n",
    "    return final_line\n",
    "\n",
    "\n"
   ]
  },
  {
   "cell_type": "code",
   "execution_count": 356,
   "id": "dc54db9d",
   "metadata": {},
   "outputs": [
    {
     "name": "stdout",
     "output_type": "stream",
     "text": [
      "-inf\n"
     ]
    },
    {
     "name": "stderr",
     "output_type": "stream",
     "text": [
      "/tmp/ipykernel_3705/488315628.py:6: RuntimeWarning: divide by zero encountered in double_scalars\n",
      "  N = np.ceil(np.log(1-p)/(np.log((1-((1-epsilon)**n_points)))))\n"
     ]
    },
    {
     "ename": "IndexError",
     "evalue": "index 0 is out of bounds for axis 1 with size 0",
     "output_type": "error",
     "traceback": [
      "\u001b[0;31m---------------------------------------------------------------------------\u001b[0m",
      "\u001b[0;31mIndexError\u001b[0m                                Traceback (most recent call last)",
      "Input \u001b[0;32mIn [356]\u001b[0m, in \u001b[0;36m<module>\u001b[0;34m\u001b[0m\n\u001b[0;32m----> 1\u001b[0m RANSAC_line \u001b[38;5;241m=\u001b[39m \u001b[43mRANSAC\u001b[49m\u001b[43m(\u001b[49m\u001b[43mt_points\u001b[49m\u001b[43m,\u001b[49m\u001b[43m \u001b[49m\u001b[38;5;241;43m0.25\u001b[39;49m\u001b[43m,\u001b[49m\u001b[38;5;241;43m0.99\u001b[39;49m\u001b[43m)\u001b[49m\n\u001b[1;32m      3\u001b[0m x \u001b[38;5;241m=\u001b[39m np\u001b[38;5;241m.\u001b[39marange(\u001b[38;5;241m-\u001b[39m\u001b[38;5;241m5\u001b[39m,\u001b[38;5;241m5\u001b[39m,\u001b[38;5;241m0.1\u001b[39m)\n\u001b[1;32m      4\u001b[0m y \u001b[38;5;241m=\u001b[39m \u001b[38;5;241m-\u001b[39m(RANSAC_line[\u001b[38;5;241m0\u001b[39m]\u001b[38;5;241m*\u001b[39mx\u001b[38;5;241m+\u001b[39mRANSAC_line[\u001b[38;5;241m2\u001b[39m])\u001b[38;5;241m/\u001b[39mRANSAC_line[\u001b[38;5;241m1\u001b[39m]\n",
      "Input \u001b[0;32mIn [355]\u001b[0m, in \u001b[0;36mRANSAC\u001b[0;34m(points, tau, p)\u001b[0m\n\u001b[1;32m     26\u001b[0m \u001b[38;5;28;01mfor\u001b[39;00m point \u001b[38;5;129;01min\u001b[39;00m points\u001b[38;5;241m.\u001b[39mT:\n\u001b[1;32m     27\u001b[0m     \u001b[38;5;28;01mif\u001b[39;00m inline_point(initial_guess,point,tau):\n\u001b[0;32m---> 28\u001b[0m         points_inliers[:,count] \u001b[38;5;241m=\u001b[39m point\n\u001b[1;32m     29\u001b[0m         count \u001b[38;5;241m+\u001b[39m\u001b[38;5;241m=\u001b[39m \u001b[38;5;241m1\u001b[39m\n\u001b[1;32m     30\u001b[0m pca_line1 \u001b[38;5;241m=\u001b[39m pca_line(points_inliers)\n",
      "\u001b[0;31mIndexError\u001b[0m: index 0 is out of bounds for axis 1 with size 0"
     ]
    }
   ],
   "source": [
    "RANSAC_line = RANSAC(t_points, 0.25,0.99)\n",
    "\n",
    "x = np.arange(-5,5,0.1)\n",
    "y = -(RANSAC_line[0]*x+RANSAC_line[2])/RANSAC_line[1]\n",
    "fig = plt.figure()\n",
    "ax1 = fig.add_subplot(111)\n",
    "ax1.scatter(x,y)\n",
    "ax1.scatter(t_points[0],t_points[1])\n",
    "plt.show()"
   ]
  },
  {
   "cell_type": "code",
   "execution_count": null,
   "id": "5de9a2b7",
   "metadata": {},
   "outputs": [],
   "source": []
  },
  {
   "cell_type": "code",
   "execution_count": null,
   "id": "097d0eb6",
   "metadata": {},
   "outputs": [],
   "source": []
  },
  {
   "cell_type": "code",
   "execution_count": null,
   "id": "9923ee18",
   "metadata": {},
   "outputs": [],
   "source": []
  },
  {
   "cell_type": "code",
   "execution_count": null,
   "id": "018df4c7",
   "metadata": {},
   "outputs": [],
   "source": []
  },
  {
   "cell_type": "code",
   "execution_count": null,
   "id": "2fa09fa9",
   "metadata": {},
   "outputs": [],
   "source": []
  }
 ],
 "metadata": {
  "kernelspec": {
   "display_name": "Python 3 (ipykernel)",
   "language": "python",
   "name": "python3"
  },
  "language_info": {
   "codemirror_mode": {
    "name": "ipython",
    "version": 3
   },
   "file_extension": ".py",
   "mimetype": "text/x-python",
   "name": "python",
   "nbconvert_exporter": "python",
   "pygments_lexer": "ipython3",
   "version": "3.10.4"
  }
 },
 "nbformat": 4,
 "nbformat_minor": 5
}
